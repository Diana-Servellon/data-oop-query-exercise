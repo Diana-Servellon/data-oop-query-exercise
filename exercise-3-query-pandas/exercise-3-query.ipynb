{
 "cells": [
  {
   "cell_type": "code",
   "execution_count": null,
   "metadata": {},
   "outputs": [],
   "source": [
    "import os\n",
    "#import library\n",
    "import pandas as pd"
   ]
  },
  {
   "cell_type": "code",
   "execution_count": null,
   "metadata": {},
   "outputs": [],
   "source": [
    "path = os.getcwd()\n",
    "filepath = path + \"\\\\CarSalesDataForReports.xlsx\""
   ]
  },
  {
   "cell_type": "code",
   "execution_count": null,
   "metadata": {},
   "outputs": [],
   "source": [
    "filepath"
   ]
  },
  {
   "cell_type": "code",
   "execution_count": null,
   "metadata": {},
   "outputs": [],
   "source": [
    "#load data\n",
    "invoiceLines = pd.read_excel(filepath,sheet_name='InvoiceLines')\n",
    "stockData = pd.read_excel(filepath,sheet_name='Stock')\n",
    "invoices = pd.read_excel(filepath,sheet_name='Invoices')\n",
    "dateDimension = pd.read_excel(filepath,sheet_name='DateDimension')\n",
    "colors = pd.read_excel(filepath,sheet_name='Colors')\n"
   ]
  },
  {
   "cell_type": "code",
   "execution_count": null,
   "metadata": {},
   "outputs": [],
   "source": [
    "#General Analysis\n",
    "list(invoiceLines.columns)\n",
    "list(stockData.columns)"
   ]
  },
  {
   "cell_type": "code",
   "execution_count": null,
   "metadata": {},
   "outputs": [],
   "source": [
    "stockData.describe()"
   ]
  },
  {
   "cell_type": "code",
   "execution_count": null,
   "metadata": {},
   "outputs": [],
   "source": [
    "stockData[stockData[\"Make\"] == \"Rolls Royce\"] \n",
    "invoiceLines[invoiceLines[\"StockID\"] == stockData[\"StockID\"] & (stockData[\"Make\"] == \"Rolls Royce\")] "
   ]
  },
  {
   "cell_type": "code",
   "execution_count": null,
   "metadata": {},
   "outputs": [],
   "source": [
    "#handle data lo analyze later\n",
    "invoicesKey = invoices.rename(columns={'InvoiceDateKey':'DateKey'})\n",
    "invoicesKey ['DateKey'] = pd.to_datetime (invoicesKey ['DateKey'], format='yyyymmdd', infer_datetime_format=True)\n",
    "#dateDimension ['DateKey'] = pd.to_numeric (dateDimension ['DateKey'])\n",
    "#invoicesKey ['DateKey'] = invoicesKey ['DateKey'].aplicar(pd. to_datetime, format='ddmmyyyy' )\n",
    "\n"
   ]
  },
  {
   "cell_type": "code",
   "execution_count": null,
   "metadata": {},
   "outputs": [],
   "source": [
    "#exercise 3-1\n",
    "#invoiceLines.nlargest(3, [\"SalePrice\"]) \n",
    "df = pd.merge(invoiceLines.nlargest(3, [\"SalePrice\"]), stockData, on='StockID' ).nlargest(3, [\"SalePrice\"])\n",
    "df2 = pd.merge(df, invoices,on ='InvoiceID')\n",
    "df2\n",
    "#pd.merge(invoicesKey, dateDimension, on='DateKey')\n",
    "#v = pd.merge(invoices, dateDimension, on='DateKey' )\n",
    "#invoicesKey ['DateKey']\n",
    "\n"
   ]
  },
  {
   "cell_type": "code",
   "execution_count": null,
   "metadata": {},
   "outputs": [],
   "source": [
    "#exercise 3-2\n",
    "\n",
    "colorData = pd.merge(colors, stockData, on='ColorID')\n",
    "df3 = pd.merge(invoiceLines.nlargest(3, [\"SalePrice\"]), colorData, on='StockID' ).nlargest(3, [\"SalePrice\"])\n",
    "df3"
   ]
  }
 ],
 "metadata": {
  "kernelspec": {
   "display_name": "Python 3.10.5 64-bit",
   "language": "python",
   "name": "python3"
  },
  "language_info": {
   "codemirror_mode": {
    "name": "ipython",
    "version": 3
   },
   "file_extension": ".py",
   "mimetype": "text/x-python",
   "name": "python",
   "nbconvert_exporter": "python",
   "pygments_lexer": "ipython3",
   "version": "3.10.5"
  },
  "orig_nbformat": 4,
  "vscode": {
   "interpreter": {
    "hash": "f1bde9ac551da73caebe1c146e2dcbe3d5170ead863d24d55d421dad98978370"
   }
  }
 },
 "nbformat": 4,
 "nbformat_minor": 2
}
